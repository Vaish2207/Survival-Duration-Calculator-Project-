{
 "cells": [
  {
   "cell_type": "code",
   "execution_count": 1,
   "id": "5d57c4f6",
   "metadata": {},
   "outputs": [
    {
     "name": "stdout",
     "output_type": "stream",
     "text": [
      "Enter your age: 23\n",
      "Select conversion option:\n",
      "1. Months\n",
      "2. Weeks\n",
      "3. Days\n",
      "4. Hours\n",
      "5. Minutes\n",
      "6. Seconds\n",
      "Enter your choice (1-6): 1\n",
      "23 years is approximately 276 months.\n"
     ]
    }
   ],
   "source": [
    "def age_calculator():\n",
    "    user_input = int(input(\"Enter your age: \"))\n",
    "    print(\"Select conversion option:\")\n",
    "    print(\"1. Months\")\n",
    "    print(\"2. Weeks\")\n",
    "    print(\"3. Days\")\n",
    "    print(\"4. Hours\")\n",
    "    print(\"5. Minutes\")\n",
    "    print(\"6. Seconds\")\n",
    "\n",
    "    choose = int(input(\"Enter your choice (1-6): \"))\n",
    "\n",
    "    if choose == 1:\n",
    "        converted_age = user_input * 12\n",
    "        unit = \"months\"\n",
    "    elif choose == 2:\n",
    "        converted_age = user_input * 52\n",
    "        unit = \"weeks\"\n",
    "    elif choose == 3:\n",
    "        converted_age = user_input * 365\n",
    "        unit = \"days\"\n",
    "    elif choose == 4:\n",
    "        converted_age = user_input * 365 * 24\n",
    "        unit = \"hours\"\n",
    "    elif choose == 5:\n",
    "        converted_age = user_input * 60 * 24 * 365\n",
    "        unit = \"minutes\"\n",
    "    elif choose == 6:\n",
    "        converted_age = user_input * 60 * 60 * 24 * 365\n",
    "        unit = \"seconds\"\n",
    "    else:\n",
    "        print(\"Invalid choice\")\n",
    "        return\n",
    "\n",
    "    print(f\"{user_input} years is approximately {converted_age} {unit}.\")\n",
    "\n",
    "age_calculator()"
   ]
  },
  {
   "cell_type": "code",
   "execution_count": null,
   "id": "f933c8b2",
   "metadata": {},
   "outputs": [],
   "source": []
  }
 ],
 "metadata": {
  "kernelspec": {
   "display_name": "Python 3 (ipykernel)",
   "language": "python",
   "name": "python3"
  },
  "language_info": {
   "codemirror_mode": {
    "name": "ipython",
    "version": 3
   },
   "file_extension": ".py",
   "mimetype": "text/x-python",
   "name": "python",
   "nbconvert_exporter": "python",
   "pygments_lexer": "ipython3",
   "version": "3.11.5"
  }
 },
 "nbformat": 4,
 "nbformat_minor": 5
}
